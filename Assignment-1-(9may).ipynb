{
 "cells": [
  {
   "cell_type": "code",
   "execution_count": null,
   "id": "5f6fc786-2c8d-46be-a213-02fd7935008a",
   "metadata": {},
   "outputs": [],
   "source": [
    "1.\n",
    "    (i) String:\n",
    "        my_string = \"Hello, world!\"\n",
    "    (ii) List:\n",
    "        my_list = [1, 2, 3]\n",
    "    (iii) Float:\n",
    "        my_float = 1.23\n",
    "    (iv) Tuple:\n",
    "        my_tuple = (10, 20, 30)"
   ]
  },
  {
   "cell_type": "code",
   "execution_count": null,
   "id": "6679441e-4e45-447c-b2ca-8b7df05abde5",
   "metadata": {},
   "outputs": [],
   "source": [
    "2.\n",
    "    (i) var1 has a data type of str.\n",
    "    (ii) var2 has a data type of str.\n",
    "    (iii) var3 has a data type of list.\n",
    "    (iv) var4 has a data type of float."
   ]
  },
  {
   "cell_type": "code",
   "execution_count": null,
   "id": "5f820064-ce6c-4abb-b372-14c9d332e838",
   "metadata": {},
   "outputs": [],
   "source": [
    "3. \n",
    "    (i) / (Division Operator):\n",
    "The division operator is used to divide one number by another and obtain the quotient as a result. It performs floating-point division, meaning it returns a floating-point number as the result. Here's an example:\n",
    "    \n",
    "    result = 10 / 5\n",
    "    print(result)\n",
    "    \n",
    "    Output: 2\n",
    "    \n",
    "    (ii) % (Modulo Operator):\n",
    "The modulo operator returns the remainder when one number is divided by another. It is often used to check divisibility or to cycle through a sequence of values. Here's an example:\n",
    "    \n",
    "    result = 10 % 3\n",
    "    print(result)\n",
    "\n",
    "    Output: 1\n",
    "    \n",
    "    (iii) // (Floor Division Operator):\n",
    "The floor division operator performs division and rounds the result down to the nearest integer, returning the integer quotient. It discards the fractional part of the division result. Here's an example:\n",
    "\n",
    "    result = 10 // 3\n",
    "    print(result)\n",
    "\n",
    "    Output: 3\n",
    "    \n",
    "    (iv) ** (Exponentiation Operator):\n",
    "The exponentiation operator raises a number to the power of another number. It is used to perform exponentiation and calculate the result. Here's an example:\n",
    "\n",
    "    result = 2 ** 3\n",
    "    print(result)\n",
    "\n",
    "    Output: 8"
   ]
  },
  {
   "cell_type": "code",
   "execution_count": 5,
   "id": "fdb972cb-6504-4a85-8e56-9b7c4e6fa048",
   "metadata": {},
   "outputs": [
    {
     "name": "stdout",
     "output_type": "stream",
     "text": [
      "10 <class 'int'>\n",
      "Hello <class 'str'>\n",
      "3.14 <class 'float'>\n",
      "True <class 'bool'>\n",
      "[1, 2, 3] <class 'list'>\n",
      "Python <class 'str'>\n",
      "(4, 5) <class 'tuple'>\n",
      "{'name': 'John', 'age': 25} <class 'dict'>\n",
      "None <class 'NoneType'>\n",
      "False <class 'bool'>\n"
     ]
    }
   ],
   "source": [
    "4.\n",
    "my_list = [10, 'Hello', 3.14, True, [1, 2, 3], 'Python', (4, 5), {'name': 'John', 'age': 25}, None, False]\n",
    "\n",
    "for element in my_list:\n",
    "    print(element, type(element))\n"
   ]
  },
  {
   "cell_type": "code",
   "execution_count": 6,
   "id": "c872ddff-e2c2-4972-837d-b01020e21bce",
   "metadata": {},
   "outputs": [
    {
     "name": "stdout",
     "output_type": "stream",
     "text": [
      "Number A is divisible by number B 1 times.\n"
     ]
    }
   ],
   "source": [
    "5.\n",
    "A = 36  \n",
    "B = 4   \n",
    "count = 0  \n",
    "while A % B == 0:\n",
    "    A = A / B  \n",
    "    count += 1\n",
    "\n",
    "print(\"Number A is divisible by number B\", count, \"times.\")\n"
   ]
  },
  {
   "cell_type": "code",
   "execution_count": 7,
   "id": "a4ac9c09-f6c1-41fd-a22c-09a5123b6278",
   "metadata": {},
   "outputs": [
    {
     "name": "stdout",
     "output_type": "stream",
     "text": [
      "5 is not divisible by 3\n",
      "12 is divisible by 3\n",
      "7 is not divisible by 3\n",
      "18 is divisible by 3\n",
      "9 is divisible by 3\n",
      "21 is divisible by 3\n",
      "10 is not divisible by 3\n",
      "27 is divisible by 3\n",
      "14 is not divisible by 3\n",
      "30 is divisible by 3\n",
      "8 is not divisible by 3\n",
      "16 is not divisible by 3\n",
      "33 is divisible by 3\n",
      "20 is not divisible by 3\n",
      "25 is not divisible by 3\n",
      "6 is divisible by 3\n",
      "11 is not divisible by 3\n",
      "36 is divisible by 3\n",
      "13 is not divisible by 3\n",
      "15 is divisible by 3\n",
      "22 is not divisible by 3\n",
      "24 is divisible by 3\n",
      "17 is not divisible by 3\n",
      "19 is not divisible by 3\n",
      "28 is not divisible by 3\n"
     ]
    }
   ],
   "source": [
    "6.\n",
    "my_list = [5, 12, 7, 18, 9, 21, 10, 27, 14, 30, 8, 16, 33, 20, 25, 6, 11, 36, 13, 15, 22, 24, 17, 19, 28]\n",
    "\n",
    "for element in my_list:\n",
    "    if element % 3 == 0:\n",
    "        print(element, \"is divisible by 3\")\n",
    "    else:\n",
    "        print(element, \"is not divisible by 3\")\n"
   ]
  },
  {
   "cell_type": "code",
   "execution_count": null,
   "id": "f7880a7c-bc7b-4b85-8d38-bfb0ca124d80",
   "metadata": {},
   "outputs": [],
   "source": [
    "7.\n",
    "In Python, data types can be categorized as either mutable or immutable based on whether their values can be changed after they are created.\n",
    "\n",
    "Immutable data types are those whose values cannot be modified once they are created. When you perform operations that appear to modify an immutable object, a new object is created with the updated value. Examples of immutable data types in Python include integers, floats, strings, and tuples.\n",
    "\n",
    "Here's an example showcasing the immutability of strings:\n",
    "\n",
    "    string1 = \"Hello\"\n",
    "    string2 = string1 \n",
    "\n",
    "    string1 += \" World\"\n",
    "\n",
    "    print(string1)  \n",
    "    print(string2) \n",
    "    \n",
    "Output:\n",
    "    \"Hello World\"\n",
    "    \"Hello\"\n",
    "\n",
    "In this example, we have a string string1 initialized with the value \"Hello\". When we try to modify string1 by concatenating \" World\" to it, a new string object is created with the updated value. The original value of string1 remains unchanged, as evidenced by the output when printing string1 and string2.\n",
    "\n",
    "On the other hand, mutable data types are those that allow in-place modifications to their values. This means you can modify the object directly without creating a new object. Examples of mutable data types in Python include lists, dictionaries, and sets.\n",
    "\n",
    "Here's an example showcasing the mutability of lists:\n",
    "\n",
    "    list1 = [1, 2, 3]\n",
    "    list2 = list1  \n",
    "\n",
    "    list1.append(4)\n",
    "\n",
    "    print(list1) \n",
    "    print(list2)  \n",
    "    \n",
    "Output:\n",
    "    [1, 2, 3, 4]\n",
    "    [1, 2, 3, 4]\n",
    "\n",
    "In this example, we have a list list1 initially containing the elements [1, 2, 3]. When we modify list1 by appending the value 4 to it, the original list is modified in-place. Since list2 references the same underlying list object, it reflects the changes made to list1, as evidenced by the identical output of list1 and list2.\n",
    "\n",
    "Understanding the distinction between mutable and immutable data types is crucial when working with Python, as it impacts how objects are modified and how they behave in different contexts."
   ]
  }
 ],
 "metadata": {
  "kernelspec": {
   "display_name": "Python 3 (ipykernel)",
   "language": "python",
   "name": "python3"
  },
  "language_info": {
   "codemirror_mode": {
    "name": "ipython",
    "version": 3
   },
   "file_extension": ".py",
   "mimetype": "text/x-python",
   "name": "python",
   "nbconvert_exporter": "python",
   "pygments_lexer": "ipython3",
   "version": "3.10.8"
  }
 },
 "nbformat": 4,
 "nbformat_minor": 5
}
