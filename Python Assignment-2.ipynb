{
 "cells": [
  {
   "cell_type": "code",
   "execution_count": 3,
   "id": "264c2d6a-ff22-4d99-b334-8dd562d4e7e2",
   "metadata": {},
   "outputs": [
    {
     "name": "stdout",
     "output_type": "stream",
     "text": [
      "[('Virat Kohli', 24936), ('Jack Kallis', 25534), ('Ricky Ponting', 27483), ('Sachin Tendulkar', 34357)]\n"
     ]
    }
   ],
   "source": [
    "1.\n",
    "    def sort_tuples_by_integer_value(tuples):\n",
    "      sorted_tuples = sorted(tuples, key=lambda tuple: tuple[1])\n",
    "      return sorted_tuples\n",
    "\n",
    "    tuples = [('Sachin Tendulkar', 34357), ('Ricky Ponting', 27483), ('Jack Kallis', 25534), ('Virat Kohli', 24936)]\n",
    "\n",
    "    sorted_tuples = sort_tuples_by_integer_value(tuples)\n",
    "\n",
    "    print(sorted_tuples)\n"
   ]
  },
  {
   "cell_type": "code",
   "execution_count": 7,
   "id": "d18ae98a-36af-44ca-bf08-05ebf1355459",
   "metadata": {},
   "outputs": [
    {
     "name": "stdout",
     "output_type": "stream",
     "text": [
      "[1, 4, 9, 16, 25, 36, 49, 64, 81, 100]\n"
     ]
    }
   ],
   "source": [
    "2.\n",
    "    def find_squares_using_lambda_and_map(numbers):\n",
    "      squares = map(lambda number: number ** 2, numbers)\n",
    "      return list(squares)\n",
    "\n",
    "    numbers = [1, 2, 3, 4, 5, 6, 7, 8, 9, 10]\n",
    "\n",
    "    squares = find_squares_using_lambda_and_map(numbers)\n",
    "\n",
    "    print(squares)\n"
   ]
  },
  {
   "cell_type": "code",
   "execution_count": 9,
   "id": "265507ce-0b35-4934-a868-5b1ad0f04ca1",
   "metadata": {},
   "outputs": [
    {
     "name": "stdout",
     "output_type": "stream",
     "text": [
      "('1', '2', '3', '4', '5', '6', '7', '8', '9', '10')\n"
     ]
    }
   ],
   "source": [
    "3.\n",
    "    def convert_list_to_tuple_of_strings(numbers):\n",
    "      strings = map(lambda number: str(number), numbers)\n",
    "      tuple_of_strings = tuple(strings)\n",
    "      return tuple_of_strings\n",
    "\n",
    "    numbers = [1, 2, 3, 4, 5, 6, 7, 8, 9, 10]\n",
    "\n",
    "    tuple_of_strings = convert_list_to_tuple_of_strings(numbers)\n",
    "\n",
    "    print(tuple_of_strings)\n"
   ]
  },
  {
   "cell_type": "code",
   "execution_count": 14,
   "id": "2e3f5560-b686-4d50-835b-69aaec5313f5",
   "metadata": {},
   "outputs": [
    {
     "name": "stdout",
     "output_type": "stream",
     "text": [
      "15511210043330985984000000\n"
     ]
    }
   ],
   "source": [
    "4.\n",
    "    from functools import reduce\n",
    "\n",
    "    def product_of_numbers(numbers):\n",
    "      product = reduce(lambda x, y: x * y, numbers)\n",
    "      return product\n",
    "\n",
    "    numbers = list(range(1, 26))\n",
    "\n",
    "    product = product_of_numbers(numbers)\n",
    "\n",
    "    print(product)\n"
   ]
  },
  {
   "cell_type": "code",
   "execution_count": 15,
   "id": "fffef5de-29a3-4d96-b9c8-7421b448ac60",
   "metadata": {},
   "outputs": [
    {
     "name": "stdout",
     "output_type": "stream",
     "text": [
      "[6, 60, 90, 120]\n"
     ]
    }
   ],
   "source": [
    "5.\n",
    "    def is_divisible_by_2_and_3(number):\n",
    "      return number % 2 == 0 and number % 3 == 0\n",
    "\n",
    "    numbers = [2, 3, 6, 9, 27, 60, 90, 120, 55, 46]\n",
    "\n",
    "    filtered_numbers = list(filter(is_divisible_by_2_and_3, numbers))\n",
    "\n",
    "    print(filtered_numbers)\n"
   ]
  },
  {
   "cell_type": "code",
   "execution_count": null,
   "id": "78b70944-55ac-4575-9a69-af52706c5164",
   "metadata": {},
   "outputs": [],
   "source": [
    "6"
   ]
  }
 ],
 "metadata": {
  "kernelspec": {
   "display_name": "Python 3 (ipykernel)",
   "language": "python",
   "name": "python3"
  },
  "language_info": {
   "codemirror_mode": {
    "name": "ipython",
    "version": 3
   },
   "file_extension": ".py",
   "mimetype": "text/x-python",
   "name": "python",
   "nbconvert_exporter": "python",
   "pygments_lexer": "ipython3",
   "version": "3.10.8"
  }
 },
 "nbformat": 4,
 "nbformat_minor": 5
}
