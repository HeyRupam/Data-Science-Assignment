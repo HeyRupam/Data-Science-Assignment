{
 "cells": [
  {
   "cell_type": "code",
   "execution_count": null,
   "id": "09055b35-4192-4a91-992e-800de86d1bf5",
   "metadata": {},
   "outputs": [],
   "source": [
    "1.\n",
    "\n",
    "Multiprocessing in Python refers to the technique of running multiple processes concurrently in order to achieve parallelism and take advantage of multiple CPU cores or processors. It is a way to improve the performance of CPU-bound tasks by distributing the workload across multiple processes. Python's multiprocessing module provides a way to create and manage these parallel processes.\n",
    "\n",
    "In Python, the Global Interpreter Lock (GIL) prevents multiple native threads from executing Python bytecodes simultaneously in a single process. This means that traditional multithreading might not fully utilize multiple CPU cores for CPU-bound tasks. However, the multiprocessing module overcomes this limitation by creating separate processes, each with its own Python interpreter and memory space, allowing true parallel execution on multi-core systems.\n",
    "\n",
    "Here are some reasons why multiprocessing is useful:\n",
    "\n",
    "(i) Parallelism: Multiprocessing allows you to perform tasks concurrently, utilizing multiple CPU cores. This is especially beneficial for tasks that require heavy computation or processing, such as scientific simulations, data analysis, and machine learning.\n",
    "\n",
    "(ii) Performance Improvement: For CPU-bound tasks, using multiprocessing can lead to significant performance improvements as compared to running the tasks sequentially. Each process can work on a separate portion of the task, effectively reducing the overall execution time.\n",
    "\n",
    "(iii) Avoiding GIL: Since each process has its own interpreter and memory space, the Global Interpreter Lock (GIL) limitation is avoided. This means that each process can fully utilize a CPU core, enhancing the efficiency of parallel execution.\n",
    "\n",
    "(iv) Isolation: Processes are isolated from each other, which means that they don't share memory by default. This can help in avoiding potential issues that can arise when multiple threads attempt to modify shared data concurrently.\n",
    "\n",
    "(v) Fault Tolerance: In case a process crashes due to an exception or error, it typically won't affect other processes. This provides a level of fault tolerance and stability to your application.\n",
    "\n",
    "To use the multiprocessing module, you can create Process instances that represent separate processes, and you can manage these processes using various methods and functions provided by the module. It's important to note that communication and synchronization between processes might require additional mechanisms, such as queues or shared memory, to exchange data or coordinate their actions.\n"
   ]
  },
  {
   "cell_type": "code",
   "execution_count": null,
   "id": "95b84ef3-2265-4263-bca0-6f1a9178faae",
   "metadata": {},
   "outputs": [],
   "source": [
    "2.\n",
    "Multiprocessing and multithreading are both techniques for achieving concurrent execution in a program, but they differ in how they manage and utilize system resources. Here are the key differences between multiprocessing and multithreading:\n",
    "\n",
    "(i) Processes vs. Threads:\n",
    "   a. Multiprocessing: In multiprocessing, multiple processes are created, each with its own separate memory space and Python interpreter. Processes are isolated from each other and run independently.\n",
    "   b. Multithreading: In multithreading, multiple threads are created within a single process. All threads share the same memory space and resources of the parent process.\n",
    "\n",
    "(ii) Concurrency vs. Parallelism:\n",
    "   a. Multiprocessing: Multiprocessing is capable of achieving true parallelism by utilizing multiple CPU cores. Each process runs independently on a separate core, executing its own instructions concurrently.\n",
    "   b. Multithreading: Due to the Global Interpreter Lock (GIL) in CPython (the default Python interpreter), multithreading might not achieve true parallelism for CPU-bound tasks, since only one thread can execute Python bytecode at a time. However, it can be useful for I/O-bound tasks where threads can wait for I/O operations without releasing the GIL.\n",
    "\n",
    "(iii) Isolation:\n",
    "   a. Multiprocessing: Processes are isolated from each other and do not share memory by default. This can prevent common issues like data races, where multiple threads inadvertently modify shared data simultaneously.\n",
    "   b. Multithreading: Threads share the same memory space, which can lead to potential synchronization issues if not managed properly. Proper synchronization mechanisms, such as locks or semaphores, are required to avoid problems like race conditions.\n",
    "\n",
    "(iv) Resource Overhead:\n",
    "   a. Multiprocessing: Creating separate processes involves higher memory overhead compared to threads, as each process has its own memory space and interpreter.\n",
    "   b. Multithreading: Threads within the same process share memory, resulting in lower memory overhead.\n",
    "\n",
    "(v) Communication and Synchronization:\n",
    "   a. Multiprocessing: Processes communicate through inter-process communication (IPC) mechanisms like pipes, queues, and shared memory. Synchronization between processes can be more complex due to the lack of shared memory.\n",
    "   b. Multithreading: Threads within the same process share memory, making communication and synchronization simpler using shared variables, but it requires careful management to avoid race conditions.\n",
    "\n",
    "(vi) Fault Tolerance:\n",
    "   a. Multiprocessing: If a process crashes, it usually does not affect other processes, providing a level of fault tolerance.\n",
    "   b. Multithreading: If a thread crashes, it can potentially crash the entire process, making the application less fault-tolerant.\n"
   ]
  },
  {
   "cell_type": "code",
   "execution_count": 1,
   "id": "d289110b-ca01-45aa-8203-0e01298a04e2",
   "metadata": {},
   "outputs": [
    {
     "name": "stderr",
     "output_type": "stream",
     "text": [
      "2023-08-30 13:11:34,866 - Process-1 - Worker 0 started\n",
      "2023-08-30 13:11:34,869 - Process-1 - Worker 0 finished with result: 0\n",
      "2023-08-30 13:11:34,871 - Process-2 - Worker 1 started\n",
      "2023-08-30 13:11:34,876 - Process-2 - Worker 1 finished with result: 2\n",
      "2023-08-30 13:11:34,877 - Process-3 - Worker 2 started\n",
      "2023-08-30 13:11:34,883 - Process-3 - Worker 2 finished with result: 4\n",
      "2023-08-30 13:11:34,884 - Process-4 - Worker 3 started\n",
      "2023-08-30 13:11:34,886 - Process-4 - Worker 3 finished with result: 6\n",
      "2023-08-30 13:11:34,889 - MainProcess - All processes have finished\n"
     ]
    }
   ],
   "source": [
    "3.\n",
    "import multiprocessing\n",
    "import logging\n",
    "\n",
    "def worker_function(number):\n",
    "    logging.info(f\"Worker {number} started\")\n",
    "    # Simulate some work\n",
    "    result = number * 2\n",
    "    logging.info(f\"Worker {number} finished with result: {result}\")\n",
    "\n",
    "if __name__ == \"__main__\":\n",
    "    # Configure logging\n",
    "    logging.basicConfig(level=logging.INFO, format=\"%(asctime)s - %(processName)s - %(message)s\")\n",
    "\n",
    "    num_processes = 4\n",
    "    processes = []\n",
    "\n",
    "    for i in range(num_processes):\n",
    "        process = multiprocessing.Process(target=worker_function, args=(i,))\n",
    "        processes.append(process)\n",
    "        process.start()\n",
    "\n",
    "    # Wait for all processes to finish\n",
    "    for process in processes:\n",
    "        process.join()\n",
    "\n",
    "    logging.info(\"All processes have finished\")\n"
   ]
  },
  {
   "cell_type": "code",
   "execution_count": null,
   "id": "56e3854d-fda9-4e8f-b39d-23715cddb064",
   "metadata": {},
   "outputs": [],
   "source": [
    "4.\n",
    "A multiprocessing pool in Python is a high-level abstraction provided by the multiprocessing module that enables you to manage a group of worker processes efficiently. It's used to distribute tasks across multiple processes, allowing you to parallelize the execution of a function across a set of input values. The primary goal of using a multiprocessing pool is to simplify the management of worker processes, making it easier to achieve parallelism without manually creating and managing individual processes.\n",
    "\n",
    "The multiprocessing.Pool class provides an interface to create a pool of worker processes. You specify the number of worker processes you want to use, and you can then use the pool to apply a function to multiple input values concurrently. The pool takes care of distributing the tasks among the worker processes, managing their execution, and collecting the results.\n",
    "\n",
    "Here's a simple example to illustrate the usage of a multiprocessing pool:\n",
    "\n",
    "    import multiprocessing\n",
    "\n",
    "    def worker_function(number):\n",
    "        return number * 2\n",
    "\n",
    "    if __name__ == \"__main__\":\n",
    "        num_processes = 4\n",
    "\n",
    "        with multiprocessing.Pool(processes=num_processes) as pool:\n",
    "            input_values = [1, 2, 3, 4, 5]\n",
    "            results = pool.map(worker_function, input_values)\n",
    "\n",
    "        print(\"Results:\", results)\n",
    "In this example, a pool of 4 worker processes is created using the multiprocessing.Pool class. The worker_function is then applied to a list of input values using the pool.map() method. The results are collected and printed.\n"
   ]
  },
  {
   "cell_type": "code",
   "execution_count": null,
   "id": "3cb3436c-98af-42bf-84c1-947273937ace",
   "metadata": {},
   "outputs": [],
   "source": [
    "5.\n",
    "You can create a pool of worker processes in Python using the multiprocessing module by using the Pool class. Here's a step-by-step guide on how to create and use a multiprocessing pool:\n",
    "\n",
    "(i) Import the multiprocessing Module:\n",
    "    Start by importing the multiprocessing module at the beginning of your script:\n",
    "        import multiprocessing\n",
    "(ii) Define the Worker Function:\n",
    "    Define the function that each worker process will execute. This function will take input arguments and perform the desired computation or task. For example:\n",
    "        def worker_function(number):\n",
    "        return number * 2\n",
    "(iii) Create and Use the Pool:\n",
    "    To create a pool of worker processes, you'll use the multiprocessing.Pool class. You can specify the number of processes you want to use in the pool. Inside a context manager (with statement), you can then use pool methods like map or apply_async to distribute tasks among the worker processes.\n",
    "\n",
    "    Here's an example using the map method:\n",
    "        if __name__ == \"__main__\":\n",
    "            num_processes = 4\n",
    "\n",
    "            with multiprocessing.Pool(processes=num_processes) as pool:\n",
    "                input_values = [1, 2, 3, 4, 5]\n",
    "                results = pool.map(worker_function, input_values)\n",
    "\n",
    "            print(\"Results:\", results)\n",
    "The map method applies the worker_function to each input value in the list and collects the results.\n",
    "\n",
    "(iv) Cleanup:\n",
    "    When using the pool inside a context manager (with statement), the pool will be properly closed and its resources will be released when you exit the context. This helps ensure that worker processes are terminated correctly and resources are freed.\n"
   ]
  },
  {
   "cell_type": "code",
   "execution_count": 2,
   "id": "c5bb2e8f-9cbd-4704-b2de-cae1a31faaed",
   "metadata": {},
   "outputs": [
    {
     "name": "stderr",
     "output_type": "stream",
     "text": [
      "2023-08-30 13:18:56,479 - Process-5 - Process 1 - Printing 1\n",
      "2023-08-30 13:18:56,484 - Process-6 - Process 2 - Printing 2\n",
      "2023-08-30 13:18:56,489 - Process-7 - Process 3 - Printing 3\n",
      "2023-08-30 13:18:56,495 - Process-8 - Process 4 - Printing 4\n",
      "2023-08-30 13:18:56,500 - MainProcess - All processes have finished\n"
     ]
    }
   ],
   "source": [
    "6.\n",
    "import multiprocessing\n",
    "import logging\n",
    "\n",
    "def worker(number):\n",
    "    logging.info(f\"Process {number} - Printing {number}\")\n",
    "\n",
    "if __name__ == \"__main__\":\n",
    "    logging.basicConfig(level=logging.INFO, format=\"%(asctime)s - %(processName)s - %(message)s\")\n",
    "\n",
    "    processes = []\n",
    "    for i in range(1, 5):\n",
    "        process = multiprocessing.Process(target=worker, args=(i,))\n",
    "        processes.append(process)\n",
    "        process.start()\n",
    "\n",
    "    for process in processes:\n",
    "        process.join()\n",
    "\n",
    "    logging.info(\"All processes have finished\")\n"
   ]
  },
  {
   "cell_type": "code",
   "execution_count": null,
   "id": "ce8c9731-184e-4424-8a07-1efff1554135",
   "metadata": {},
   "outputs": [],
   "source": []
  }
 ],
 "metadata": {
  "kernelspec": {
   "display_name": "Python 3 (ipykernel)",
   "language": "python",
   "name": "python3"
  },
  "language_info": {
   "codemirror_mode": {
    "name": "ipython",
    "version": 3
   },
   "file_extension": ".py",
   "mimetype": "text/x-python",
   "name": "python",
   "nbconvert_exporter": "python",
   "pygments_lexer": "ipython3",
   "version": "3.10.8"
  }
 },
 "nbformat": 4,
 "nbformat_minor": 5
}
