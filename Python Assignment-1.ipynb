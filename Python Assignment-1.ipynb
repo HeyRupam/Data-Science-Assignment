{
 "cells": [
  {
   "cell_type": "code",
   "execution_count": 10,
   "id": "d501f93d-fb75-49ee-8c72-36e4ca4f31d0",
   "metadata": {},
   "outputs": [
    {
     "name": "stdout",
     "output_type": "stream",
     "text": [
      "[1, 3, 5, 7, 9, 11, 13, 15, 17, 19, 21, 23]\n"
     ]
    }
   ],
   "source": [
    "1.\n",
    "    The def keyword is used to create a function in Python.\n",
    "    \n",
    "    Here is a function to return a list of odd numbers in the range of 1 to 25:\n",
    "    \n",
    "    def oddNumber():\n",
    "        odd_nums = [];\n",
    "        for i in range(1,25):\n",
    "            if i % 2 != 0:\n",
    "                odd_nums.append(i)\n",
    "        return odd_nums\n",
    "\n",
    "    print(oddNumber())\n"
   ]
  },
  {
   "cell_type": "code",
   "execution_count": null,
   "id": "7f0063e3-448d-470c-84e9-bacc87d57d5b",
   "metadata": {},
   "outputs": [],
   "source": [
    "2. \n",
    "    The *args and **kwargs keywords are used in Python functions to allow the function to accept a variable number of arguments. *args is used to accept a variable number of positional arguments, while **kwargs is used to accept a variable number of keyword arguments.\n",
    "    \n",
    "    Here is an example of a function that uses *args:\n",
    "        def my_function(*args):\n",
    "          for arg in args:\n",
    "            print(arg)\n",
    "\n",
    "        my_function(1, 2, 3, 4, 5)\n",
    "        \n",
    "    This function will print the following output:\n",
    "\n",
    "        1\n",
    "        2\n",
    "        3\n",
    "        4\n",
    "        5\n",
    "\n",
    "\n",
    "    As you can see, the my_function function prints all of the positional arguments that were passed to it.\n",
    "\n",
    "    Here is an example of a function that uses **kwargs:\n",
    "    \n",
    "        def my_function(**kwargs):\n",
    "          for key, value in kwargs.items():\n",
    "            print(f\"{key}: {value}\")\n",
    "\n",
    "        my_function(a=1, b=2, c=3, d=4, e=5)\n",
    "    \n",
    "    This function will print the following output:\n",
    "\n",
    "        a: 1\n",
    "        b: 2\n",
    "        c: 3\n",
    "        d: 4\n",
    "        e: 5\n"
   ]
  },
  {
   "cell_type": "code",
   "execution_count": null,
   "id": "ba46c38a-4c63-4c32-a434-bf2fd7c4ae09",
   "metadata": {},
   "outputs": [
    {
     "name": "stdout",
     "output_type": "stream",
     "text": [
      "2\n",
      "4\n",
      "6\n",
      "8\n",
      "10\n"
     ]
    }
   ],
   "source": [
    "3.\n",
    "    \n",
    "    An iterator in Python is an object that can be used to iterate over a sequence of elements. Iterators implement the iterator protocol, which consists of the methods __iter__() and __next__(). The __iter__() method returns the iterator object itself, and the __next__() method returns the next element in the sequence.\n",
    "\n",
    "    The method used to initialize the iterator object is iter(). The method used for iteration is next().\n",
    "\n",
    "    Here is an example of how to use iterators to print the first five elements of the list [2, 4, 6, 8, 10, 12, 14, 16, 18, 20]:\n",
    "\n",
    "        def print_first_five_elements(list_of_numbers):\n",
    "          iterator = iter(list_of_numbers)\n",
    "          for i in range(5):\n",
    "            print(next(iterator))\n",
    "\n",
    "        list_of_numbers = [2, 4, 6, 8, 10, 12, 14, 16, 18, 20]\n",
    "        print_first_five_elements(list_of_numbers)\n"
   ]
  },
  {
   "cell_type": "code",
   "execution_count": 11,
   "id": "30dcdf88-a6b1-495a-9784-a63783f19d2f",
   "metadata": {},
   "outputs": [
    {
     "name": "stdout",
     "output_type": "stream",
     "text": [
      "0\n",
      "1\n",
      "1\n",
      "2\n",
      "3\n",
      "5\n",
      "8\n",
      "13\n",
      "21\n",
      "34\n"
     ]
    }
   ],
   "source": [
    "4.\n",
    "    A generator function in Python is a function that returns an iterator. Generator functions are created using the yield keyword. The yield keyword is used to suspend the execution of the function and return a value. When the generator function is called again, the execution will resume from the point where it was suspended.\n",
    "\n",
    "    Generator functions are useful for generating sequences of values without having to store all of the values in memory at once. This can be useful for generating large sequences of values, or for generating sequences of values that are only needed for a short period of time.\n",
    "\n",
    "    Here is an example of a generator function:\n",
    "        \n",
    "        def fibonacci():\n",
    "          a, b = 0, 1\n",
    "          while True:\n",
    "            yield a\n",
    "            a, b = b, a + b\n",
    "\n",
    "        fibonacci_generator = fibonacci()\n",
    "\n",
    "        for i in range(10):\n",
    "          print(next(fibonacci_generator))\n",
    "\n",
    "    This code will print the first 10 terms of the Fibonacci sequence.\n"
   ]
  },
  {
   "cell_type": "code",
   "execution_count": 13,
   "id": "78feccfe-7f09-4384-83c6-f2d5bda548f5",
   "metadata": {},
   "outputs": [
    {
     "name": "stdout",
     "output_type": "stream",
     "text": [
      "2\n",
      "3\n",
      "5\n",
      "7\n",
      "11\n",
      "13\n",
      "17\n",
      "19\n",
      "23\n",
      "29\n",
      "31\n",
      "37\n",
      "41\n",
      "43\n",
      "47\n",
      "53\n",
      "59\n",
      "61\n",
      "67\n",
      "71\n"
     ]
    }
   ],
   "source": [
    "5.\n",
    "    def prime_numbers():\n",
    "      # \"\"\"Generator function that generates prime numbers less than 1000.\"\"\"\n",
    "      i = 2\n",
    "      while i < 1000:\n",
    "        is_prime = True\n",
    "        for j in range(2, int(i ** 0.5) + 1):\n",
    "          if i % j == 0:\n",
    "            is_prime = False\n",
    "            break\n",
    "        if is_prime:\n",
    "          yield i\n",
    "        i += 1\n",
    "\n",
    "    prime_numbers_generator = prime_numbers()\n",
    "\n",
    "    for i in range(20):\n",
    "      print(next(prime_numbers_generator))\n"
   ]
  },
  {
   "cell_type": "code",
   "execution_count": 19,
   "id": "f66c1a8e-665e-4c84-bdae-b4ba3dbca3fe",
   "metadata": {},
   "outputs": [
    {
     "name": "stdout",
     "output_type": "stream",
     "text": [
      "0\n",
      "1\n",
      "1\n",
      "2\n",
      "3\n",
      "5\n",
      "8\n",
      "13\n",
      "21\n",
      "34\n",
      "55\n",
      "None\n"
     ]
    }
   ],
   "source": [
    "6.\n",
    "    def fibonacci(n):\n",
    "        a,b,i = 0,1,0\n",
    "        while i<=n:\n",
    "            print(a)\n",
    "            a, b = b, a+b\n",
    "            i += 1\n",
    "    print(fibonacci(10))"
   ]
  },
  {
   "cell_type": "code",
   "execution_count": 21,
   "id": "f44d7e52-2ff3-43e6-8741-af6dbafe5186",
   "metadata": {},
   "outputs": [
    {
     "name": "stdout",
     "output_type": "stream",
     "text": [
      "['p', 'w', 's', 'k', 'i', 'l', 'l', 's']\n"
     ]
    }
   ],
   "source": [
    "7.\n",
    "    def list_comprehension():\n",
    "      \"\"\"List Comprehension to iterate through the given string: ‘pwskills’.\"\"\"\n",
    "      string = \"pwskills\"\n",
    "      list_of_characters = [letter for letter in string]\n",
    "      print(list_of_characters)\n",
    "\n",
    "    list_comprehension()\n"
   ]
  },
  {
   "cell_type": "code",
   "execution_count": 23,
   "id": "06cddfd0-b7be-45b9-a960-923212e5c857",
   "metadata": {},
   "outputs": [
    {
     "name": "stdout",
     "output_type": "stream",
     "text": [
      "True\n"
     ]
    }
   ],
   "source": [
    "8.\n",
    "    def is_palindrome(number):\n",
    "      original_number = number\n",
    "      reversed_number = 0\n",
    "      while number > 0:\n",
    "        reversed_number = reversed_number * 10 + number % 10\n",
    "        number //= 10\n",
    "      return original_number == reversed_number\n",
    "\n",
    "    number = 121\n",
    "    print(is_palindrome(number))\n"
   ]
  },
  {
   "cell_type": "code",
   "execution_count": null,
   "id": "c55295fb-92e5-4ce0-848c-04507418e891",
   "metadata": {},
   "outputs": [],
   "source": []
  }
 ],
 "metadata": {
  "kernelspec": {
   "display_name": "Python 3 (ipykernel)",
   "language": "python",
   "name": "python3"
  },
  "language_info": {
   "codemirror_mode": {
    "name": "ipython",
    "version": 3
   },
   "file_extension": ".py",
   "mimetype": "text/x-python",
   "name": "python",
   "nbconvert_exporter": "python",
   "pygments_lexer": "ipython3",
   "version": "3.10.8"
  }
 },
 "nbformat": 4,
 "nbformat_minor": 5
}
